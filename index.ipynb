{
 "cells": [
  {
   "cell_type": "markdown",
   "metadata": {},
   "source": [
    "# Point Addition 1"
   ]
  },
  {
   "cell_type": "markdown",
   "metadata": {},
   "source": [
    "### Test Driven Exercise\n",
    "\n",
    "#### Add case 2 to the `__add__` method in your library:"
   ]
  },
  {
   "cell_type": "code",
   "execution_count": 12,
   "metadata": {},
   "outputs": [],
   "source": [
    "from ecc import Point\n",
    "\n",
    "class Point(Point):\n",
    "\n",
    "    def __add__(self, other):\n",
    "        if self.a != other.a or self.b != other.b:\n",
    "            raise RuntimeError('Points {}, {} are not on the same curve'.format(self, other))\n",
    "        # Case 0.0: self is the point at infinity, return other\n",
    "        if self.x is None:\n",
    "            return other\n",
    "        # Case 0.1: other is the point at infinity, return self\n",
    "        if other.x is None:\n",
    "            return self\n",
    "\n",
    "        # Case 1: self.x == other.x, self.y != other.y\n",
    "        # Result is point at infinity\n",
    "        if self.x == other.x and self.y != other.y:\n",
    "        # Remember to return an instance of this class:\n",
    "        # self.__class__(x, y, a, b)\n",
    "            return self.__class__(None, None, self.a, self.b)\n",
    "\n",
    "        # Case 2: self.x != other.x\n",
    "        # Formula (x3,y3)==(x1,y1)+(x2,y2)\n",
    "        # s=(y2-y1)/(x2-x1)\n",
    "        # x3=s**2-x1-x2\n",
    "        # y3=s*(x1-x3)-y1\n",
    "        # Remember to return an instance of this class:\n",
    "        # self.__class__(x, y, a, b)\n",
    "        pass"
   ]
  }
 ],
 "metadata": {
  "kernelspec": {
   "display_name": "Python 3",
   "language": "python",
   "name": "python3"
  },
  "language_info": {
   "codemirror_mode": {
    "name": "ipython",
    "version": 3
   },
   "file_extension": ".py",
   "mimetype": "text/x-python",
   "name": "python",
   "nbconvert_exporter": "python",
   "pygments_lexer": "ipython3",
   "version": "3.6.4"
  }
 },
 "nbformat": 4,
 "nbformat_minor": 2
}
